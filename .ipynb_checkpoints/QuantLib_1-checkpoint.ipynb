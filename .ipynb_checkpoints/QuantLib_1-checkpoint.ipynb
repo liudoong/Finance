{
 "cells": [
  {
   "cell_type": "code",
   "execution_count": 2,
   "id": "dd2d015e-0222-40ad-ba4d-6a6f69c83b37",
   "metadata": {},
   "outputs": [],
   "source": [
    "import QuantLib as ql\n",
    "import pandas as pd"
   ]
  },
  {
   "cell_type": "markdown",
   "id": "57aaa5f7-8b9b-4bee-9a51-cee82a0e7243",
   "metadata": {},
   "source": [
    "# Date Class"
   ]
  },
  {
   "cell_type": "code",
   "execution_count": 3,
   "id": "5ea4bf34-e821-408b-9850-c06c0401d3f3",
   "metadata": {},
   "outputs": [
    {
     "name": "stdout",
     "output_type": "stream",
     "text": [
      "March 31st, 2015\n"
     ]
    }
   ],
   "source": [
    "date = ql.Date(31, 3, 2015)\n",
    "print(date)"
   ]
  },
  {
   "cell_type": "code",
   "execution_count": 4,
   "id": "c27e497b-6621-4419-be45-a77c3dc7f86d",
   "metadata": {},
   "outputs": [
    {
     "name": "stdout",
     "output_type": "stream",
     "text": [
      "3-31-2015\n"
     ]
    }
   ],
   "source": [
    "print(\"%d-%d-%d\" %(date.month(),\n",
    "                   date.dayOfMonth(),\n",
    "                   date.year()))"
   ]
  },
  {
   "cell_type": "code",
   "execution_count": 5,
   "id": "ea691007-ebbc-4599-ae86-ca0ef7a956c7",
   "metadata": {},
   "outputs": [
    {
     "data": {
      "text/plain": [
       "True"
      ]
     },
     "execution_count": 5,
     "metadata": {},
     "output_type": "execute_result"
    }
   ],
   "source": [
    "date.weekday() == ql.Tuesday"
   ]
  },
  {
   "cell_type": "code",
   "execution_count": 6,
   "id": "d736b46e-c669-4a49-923a-3f8525a90dcd",
   "metadata": {},
   "outputs": [
    {
     "data": {
      "text/plain": [
       "QuantLib.QuantLib.Date"
      ]
     },
     "execution_count": 6,
     "metadata": {},
     "output_type": "execute_result"
    }
   ],
   "source": [
    "type(date+1)"
   ]
  },
  {
   "cell_type": "code",
   "execution_count": 9,
   "id": "b883d316-b3f2-47e8-b3ca-e884bfb867a0",
   "metadata": {},
   "outputs": [
    {
     "name": "stdout",
     "output_type": "stream",
     "text": [
      "Add a day      : April 1st, 2015\n",
      "Subtract a day : March 30th, 2015\n",
      "Add a week     : April 7th, 2015\n",
      "Add a month    : April 30th, 2015\n",
      "Add a year     : March 31st, 2016\n"
     ]
    }
   ],
   "source": [
    "print(\"Add a day      : {0}\".format(date + 1))\n",
    "print(\"Subtract a day : {0}\".format(date - 1))\n",
    "print(\"Add a week     : {0}\".format(date + ql.Period(1, ql.Weeks)))\n",
    "print(\"Add a month    : {0}\".format(date + ql.Period(1, ql.Months)))\n",
    "print(\"Add a year     : {0}\".format(date + ql.Period(1, ql.Years)))"
   ]
  },
  {
   "cell_type": "code",
   "execution_count": 10,
   "id": "4501793d-2d68-4c0a-a206-fde27d5d14ad",
   "metadata": {},
   "outputs": [
    {
     "name": "stdout",
     "output_type": "stream",
     "text": [
      "True\n",
      "True\n",
      "True\n",
      "True\n"
     ]
    }
   ],
   "source": [
    "print(date == ql.Date(31, 3, 2015))\n",
    "print(date > ql.Date(30, 3, 2015))\n",
    "print(date < ql.Date(1, 4, 2015))\n",
    "print(date != ql.Date(1, 4, 2015))"
   ]
  },
  {
   "cell_type": "markdown",
   "id": "bf4f02ee-a9ae-45fb-aa71-d083a1a28527",
   "metadata": {},
   "source": [
    "# Calendar Class"
   ]
  },
  {
   "cell_type": "code",
   "execution_count": 11,
   "id": "d3b1c336-5430-4ebe-8727-f1bd9b2a5622",
   "metadata": {},
   "outputs": [
    {
     "name": "stdout",
     "output_type": "stream",
     "text": [
      "Add 60 days: May 30th, 2015\n",
      "Add 60 business days in US: June 24th, 2015\n",
      "Add 60 business days in Italy: June 26th, 2015\n"
     ]
    }
   ],
   "source": [
    "date           = ql.Date(31, 3, 2015)\n",
    "us_calendar    = ql.UnitedStates(ql.UnitedStates.GovernmentBond)\n",
    "italy_calendar = ql.Italy()\n",
    "\n",
    "period     = ql.Period(60, ql.Days)\n",
    "raw_date   = date + period\n",
    "us_date    = us_calendar.advance(date, period)\n",
    "italy_date = italy_calendar.advance(date, period)\n",
    "\n",
    "print(\"Add 60 days: {0}\".format(raw_date))\n",
    "print(\"Add 60 business days in US: {0}\".format(us_date))\n",
    "print(\"Add 60 business days in Italy: {0}\".format(italy_date))"
   ]
  },
  {
   "cell_type": "code",
   "execution_count": 12,
   "id": "3bc309cf-0dde-4dd5-ac32-b55ed33f3441",
   "metadata": {},
   "outputs": [
    {
     "name": "stdout",
     "output_type": "stream",
     "text": [
      "Business days US: 60\n",
      "Business days Italy: 60\n"
     ]
    }
   ],
   "source": [
    "us_busdays = us_calendar.businessDaysBetween(date, us_date)\n",
    "italy_busdays = italy_calendar.businessDaysBetween(date, italy_date)\n",
    "\n",
    "print(\"Business days US: {0}\".format(us_busdays))\n",
    "print(\"Business days Italy: {0}\".format(italy_busdays))"
   ]
  },
  {
   "cell_type": "code",
   "execution_count": 13,
   "id": "f9a163ea-7f93-4ad8-a84f-7203159fef37",
   "metadata": {},
   "outputs": [
    {
     "name": "stdout",
     "output_type": "stream",
     "text": [
      "Add 60 business days in US-Italy: June 29th, 2015\n",
      "Business days US-Italy: 60\n"
     ]
    }
   ],
   "source": [
    "joint_calendar = ql.JointCalendar(us_calendar, italy_calendar)\n",
    "\n",
    "joint_date = joint_calendar.advance(date, period)\n",
    "joint_busdays = joint_calendar.businessDaysBetween(date, joint_date)\n",
    "\n",
    "print(\"Add 60 business days in US-Italy: {0}\".format(joint_date))\n",
    "print(\"Business days US-Italy: {0}\".format(joint_busdays))\n"
   ]
  },
  {
   "cell_type": "markdown",
   "id": "59a4e5d7-11f6-44cb-bcf3-b8e1cd55b670",
   "metadata": {},
   "source": [
    "# Schedule Class"
   ]
  },
  {
   "cell_type": "code",
   "execution_count": 14,
   "id": "720d3861-f131-415e-b6e8-dbe610ef4fe5",
   "metadata": {},
   "outputs": [
    {
     "data": {
      "text/html": [
       "<div>\n",
       "<style scoped>\n",
       "    .dataframe tbody tr th:only-of-type {\n",
       "        vertical-align: middle;\n",
       "    }\n",
       "\n",
       "    .dataframe tbody tr th {\n",
       "        vertical-align: top;\n",
       "    }\n",
       "\n",
       "    .dataframe thead th {\n",
       "        text-align: right;\n",
       "    }\n",
       "</style>\n",
       "<table border=\"1\" class=\"dataframe\">\n",
       "  <thead>\n",
       "    <tr style=\"text-align: right;\">\n",
       "      <th></th>\n",
       "      <th>date</th>\n",
       "    </tr>\n",
       "  </thead>\n",
       "  <tbody>\n",
       "    <tr>\n",
       "      <th>0</th>\n",
       "      <td>January 2nd, 2015</td>\n",
       "    </tr>\n",
       "    <tr>\n",
       "      <th>1</th>\n",
       "      <td>February 2nd, 2015</td>\n",
       "    </tr>\n",
       "    <tr>\n",
       "      <th>2</th>\n",
       "      <td>March 2nd, 2015</td>\n",
       "    </tr>\n",
       "    <tr>\n",
       "      <th>3</th>\n",
       "      <td>April 1st, 2015</td>\n",
       "    </tr>\n",
       "    <tr>\n",
       "      <th>4</th>\n",
       "      <td>May 1st, 2015</td>\n",
       "    </tr>\n",
       "    <tr>\n",
       "      <th>5</th>\n",
       "      <td>June 1st, 2015</td>\n",
       "    </tr>\n",
       "    <tr>\n",
       "      <th>6</th>\n",
       "      <td>July 1st, 2015</td>\n",
       "    </tr>\n",
       "    <tr>\n",
       "      <th>7</th>\n",
       "      <td>August 3rd, 2015</td>\n",
       "    </tr>\n",
       "    <tr>\n",
       "      <th>8</th>\n",
       "      <td>September 1st, 2015</td>\n",
       "    </tr>\n",
       "    <tr>\n",
       "      <th>9</th>\n",
       "      <td>October 1st, 2015</td>\n",
       "    </tr>\n",
       "    <tr>\n",
       "      <th>10</th>\n",
       "      <td>November 2nd, 2015</td>\n",
       "    </tr>\n",
       "    <tr>\n",
       "      <th>11</th>\n",
       "      <td>December 1st, 2015</td>\n",
       "    </tr>\n",
       "    <tr>\n",
       "      <th>12</th>\n",
       "      <td>January 4th, 2016</td>\n",
       "    </tr>\n",
       "  </tbody>\n",
       "</table>\n",
       "</div>"
      ],
      "text/plain": [
       "                   date\n",
       "0     January 2nd, 2015\n",
       "1    February 2nd, 2015\n",
       "2       March 2nd, 2015\n",
       "3       April 1st, 2015\n",
       "4         May 1st, 2015\n",
       "5        June 1st, 2015\n",
       "6        July 1st, 2015\n",
       "7      August 3rd, 2015\n",
       "8   September 1st, 2015\n",
       "9     October 1st, 2015\n",
       "10   November 2nd, 2015\n",
       "11   December 1st, 2015\n",
       "12    January 4th, 2016"
      ]
     },
     "execution_count": 14,
     "metadata": {},
     "output_type": "execute_result"
    }
   ],
   "source": [
    "effective_date                  = ql.Date(1,1,2015)\n",
    "termination_date                = ql.Date(1,1,2016)\n",
    "tenor                           = ql.Period(ql.Monthly)\n",
    "calendar                        = ql.UnitedStates(ql.UnitedStates.GovernmentBond)\n",
    "business_convention             = ql.Following\n",
    "termination_business_convention = ql.Following\n",
    "date_generation                 = ql.DateGeneration.Forward\n",
    "end_of_month                    = False\n",
    "\n",
    "schedule  = ql.Schedule(effective_date,\n",
    "                        termination_date,\n",
    "                        tenor,\n",
    "                        calendar,\n",
    "                        business_convention,\n",
    "                        termination_business_convention,\n",
    "                        date_generation,\n",
    "                        end_of_month)\n",
    "\n",
    "pd.DataFrame({'date': list(schedule)})"
   ]
  },
  {
   "cell_type": "code",
   "execution_count": null,
   "id": "9b1b32f6-6337-48b3-9c08-0b424c2e3274",
   "metadata": {},
   "outputs": [],
   "source": []
  }
 ],
 "metadata": {
  "kernelspec": {
   "display_name": "Python 3 (ipykernel)",
   "language": "python",
   "name": "python3"
  },
  "language_info": {
   "codemirror_mode": {
    "name": "ipython",
    "version": 3
   },
   "file_extension": ".py",
   "mimetype": "text/x-python",
   "name": "python",
   "nbconvert_exporter": "python",
   "pygments_lexer": "ipython3",
   "version": "3.11.11"
  }
 },
 "nbformat": 4,
 "nbformat_minor": 5
}

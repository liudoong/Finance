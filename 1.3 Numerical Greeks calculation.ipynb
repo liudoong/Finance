{
 "cells": [
  {
   "cell_type": "markdown",
   "id": "b24a003f",
   "metadata": {},
   "source": [
    "# Introduction Instrument Class"
   ]
  },
  {
   "cell_type": "code",
   "execution_count": 1,
   "id": "be620e71",
   "metadata": {},
   "outputs": [],
   "source": [
    "# SHow how to calculate numerical Greeks when the engine doesn't provide them\n",
    "\n",
    "import QuantLib as ql\n",
    "\n",
    "today = ql.Date(8, ql.October, 2014)\n",
    "ql.Settings.instance().evaluationDate = today"
   ]
  },
  {
   "cell_type": "code",
   "execution_count": 2,
   "id": "de9bf528",
   "metadata": {},
   "outputs": [],
   "source": [
    "# a knock-in barrier option example\n",
    "\n",
    "option = ql.BarrierOption(ql.Barrier.UpIn,\n",
    "                          120.0, #barrier\n",
    "                          0.0,   #rebate\n",
    "                          ql.PlainVanillaPayoff(ql.Option.Call, 100.0),\n",
    "                          ql.EuropeanExercise(ql.Date(8, ql.January, 2015)))\n",
    "\n",
    "#for the purpose of this example, the market data are the underlying value, the risk-free rate and the volatility.\n",
    "#we wrap them in quotes, so that the instrument will be notified of any changes.\n",
    "\n",
    "u     = ql.SimpleQuote(100.0)\n",
    "r     = ql.SimpleQuote(0.01)\n",
    "sigma = ql.SimpleQuote(0.20)"
   ]
  },
  {
   "cell_type": "code",
   "execution_count": 5,
   "id": "1a5d89a5",
   "metadata": {},
   "outputs": [
    {
     "name": "stdout",
     "output_type": "stream",
     "text": [
      "1.3657980739109867\n"
     ]
    }
   ],
   "source": [
    "# from the quotes we build the flat curves and the process that the engine requires.\n",
    "# we build the term structures so that they move with the evaluation date\n",
    "\n",
    "riskFreeCurve    = ql.FlatForward(0, \n",
    "                                  ql.TARGET(),\n",
    "                                  ql.QuoteHandle(r),\n",
    "                                  ql.Actual360())\n",
    "\n",
    "volatility       = ql.BlackConstantVol(0,\n",
    "                                       ql.TARGET(),\n",
    "                                       ql.QuoteHandle(sigma),\n",
    "                                       ql.Actual360())\n",
    "\n",
    "process          = ql.BlackScholesProcess(ql.QuoteHandle(u),\n",
    "                                          ql.YieldTermStructureHandle(riskFreeCurve),\n",
    "                                          ql.BlackVolTermStructureHandle(volatility))\n",
    "\n",
    "# Build the engine (the library provides one based on a analyti formula) and set it to the option.\n",
    "\n",
    "option.setPricingEngine(ql.AnalyticBarrierEngine(process))\n",
    "\n",
    "# ask the option for its value\n",
    "print(option.NPV())"
   ]
  },
  {
   "cell_type": "code",
   "execution_count": 6,
   "id": "347879fe",
   "metadata": {},
   "outputs": [
    {
     "ename": "RuntimeError",
     "evalue": "delta not provided",
     "output_type": "error",
     "traceback": [
      "\u001b[0;31m---------------------------------------------------------------------------\u001b[0m",
      "\u001b[0;31mRuntimeError\u001b[0m                              Traceback (most recent call last)",
      "Cell \u001b[0;32mIn[6], line 1\u001b[0m\n\u001b[0;32m----> 1\u001b[0m \u001b[38;5;28mprint\u001b[39m(\u001b[43moption\u001b[49m\u001b[38;5;241;43m.\u001b[39;49m\u001b[43mdelta\u001b[49m\u001b[43m(\u001b[49m\u001b[43m)\u001b[49m)\n",
      "File \u001b[0;32m/opt/homebrew/Caskroom/miniconda/base/envs/tensorflow/lib/python3.10/site-packages/QuantLib/QuantLib.py:17093\u001b[0m, in \u001b[0;36mOneAssetOption.delta\u001b[0;34m(self)\u001b[0m\n\u001b[1;32m  17091\u001b[0m \u001b[38;5;28;01mdef\u001b[39;00m \u001b[38;5;21mdelta\u001b[39m(\u001b[38;5;28mself\u001b[39m):\n\u001b[1;32m  17092\u001b[0m     \u001b[38;5;124mr\u001b[39m\u001b[38;5;124;03m\"\"\"delta(OneAssetOption self) -> Real\"\"\"\u001b[39;00m\n\u001b[0;32m> 17093\u001b[0m     \u001b[38;5;28;01mreturn\u001b[39;00m \u001b[43m_QuantLib\u001b[49m\u001b[38;5;241;43m.\u001b[39;49m\u001b[43mOneAssetOption_delta\u001b[49m\u001b[43m(\u001b[49m\u001b[38;5;28;43mself\u001b[39;49m\u001b[43m)\u001b[49m\n",
      "\u001b[0;31mRuntimeError\u001b[0m: delta not provided"
     ]
    }
   ],
   "source": [
    "print(option.delta())"
   ]
  },
  {
   "cell_type": "markdown",
   "id": "c29c19a4",
   "metadata": {},
   "source": [
    "# Numberical calculation of Greeks"
   ]
  },
  {
   "cell_type": "code",
   "execution_count": 7,
   "id": "14623e7b",
   "metadata": {},
   "outputs": [
    {
     "name": "stdout",
     "output_type": "stream",
     "text": [
      "1.3657980739109867\n"
     ]
    }
   ],
   "source": [
    "u0 = u.value()    ; h = 0.01   #underlying and step\n",
    "P0 = option.NPV() ; print(P0)  #option price"
   ]
  },
  {
   "cell_type": "code",
   "execution_count": 8,
   "id": "9211c811",
   "metadata": {},
   "outputs": [
    {
     "name": "stdout",
     "output_type": "stream",
     "text": [
      "1.3688112201958078\n"
     ]
    }
   ],
   "source": [
    "# increase the underlying value and get the new option value\n",
    "\n",
    "u.setValue(u0 + h)\n",
    "P_plus = option.NPV() ; print(P_plus)"
   ]
  },
  {
   "cell_type": "code",
   "execution_count": 9,
   "id": "203a25be",
   "metadata": {},
   "outputs": [
    {
     "name": "stdout",
     "output_type": "stream",
     "text": [
      "1.3627900998610203\n"
     ]
    }
   ],
   "source": [
    "u.setValue(u0 - h)\n",
    "P_minus = option.NPV() ; print(P_minus)"
   ]
  },
  {
   "cell_type": "code",
   "execution_count": 10,
   "id": "a899977d",
   "metadata": {},
   "outputs": [
    {
     "name": "stdout",
     "output_type": "stream",
     "text": [
      "0.3010560167393761\n",
      "0.05172234854633473\n"
     ]
    }
   ],
   "source": [
    "# Set the underlying value back to its current value\n",
    "\n",
    "u.setValue(u0)\n",
    "\n",
    "# Applying the formulas above give us the desired Greeks\n",
    "\n",
    "Delta = (P_plus - P_minus)/(2*h)\n",
    "Gamma = (P_plus - 2*P0 + P_minus)/(h*h)\n",
    "\n",
    "print(Delta)\n",
    "print(Gamma)"
   ]
  },
  {
   "cell_type": "code",
   "execution_count": 11,
   "id": "6f1ae1e9",
   "metadata": {},
   "outputs": [
    {
     "name": "stdout",
     "output_type": "stream",
     "text": [
      "6.531038494281827\n"
     ]
    }
   ],
   "source": [
    "# calculate Rho and Vega\n",
    "\n",
    "r0 = r.value(); h = 0.0001\n",
    "r.setValue(r0+h) ; P_plus = option.NPV()\n",
    "r.setValue(r0)\n",
    "Rho = (P_plus - P0)/h ; print(Rho)"
   ]
  },
  {
   "cell_type": "code",
   "execution_count": 12,
   "id": "35daebbe",
   "metadata": {},
   "outputs": [
    {
     "name": "stdout",
     "output_type": "stream",
     "text": [
      "26.52519924198904\n"
     ]
    }
   ],
   "source": [
    "sigma0 = sigma.value() ; h = 0.0001\n",
    "sigma.setValue(sigma0+h) ; P_plus = option.NPV()\n",
    "sigma.setValue(sigma0)\n",
    "Vega = (P_plus - P0)/h ; print(Vega)"
   ]
  },
  {
   "cell_type": "code",
   "execution_count": 13,
   "id": "3527ffee",
   "metadata": {},
   "outputs": [
    {
     "name": "stdout",
     "output_type": "stream",
     "text": [
      "-10.770888399441302\n"
     ]
    }
   ],
   "source": [
    "# The approach for the Theta is bit different\n",
    "\n",
    "ql.Settings.instance().evaluationDate = today + 1\n",
    "P1 = option.NPV()\n",
    "h  = 1.0/365\n",
    "Theta = (P1 - P0)/h ; print(Theta)"
   ]
  },
  {
   "cell_type": "code",
   "execution_count": null,
   "id": "cf01e277",
   "metadata": {},
   "outputs": [],
   "source": []
  }
 ],
 "metadata": {
  "kernelspec": {
   "display_name": "Python 3 (ipykernel)",
   "language": "python",
   "name": "python3"
  },
  "language_info": {
   "codemirror_mode": {
    "name": "ipython",
    "version": 3
   },
   "file_extension": ".py",
   "mimetype": "text/x-python",
   "name": "python",
   "nbconvert_exporter": "python",
   "pygments_lexer": "ipython3",
   "version": "3.11.11"
  }
 },
 "nbformat": 4,
 "nbformat_minor": 5
}

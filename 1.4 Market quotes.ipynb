{
 "cells": [
  {
   "cell_type": "markdown",
   "id": "149e37e4",
   "metadata": {},
   "source": [
    "# Market quotes"
   ]
  },
  {
   "cell_type": "code",
   "execution_count": 1,
   "id": "598364d8",
   "metadata": {},
   "outputs": [],
   "source": [
    "%matplotlib inline\n",
    "import numpy as np\n",
    "import utils\n",
    "import QuantLib as ql\n",
    "\n",
    "today = ql.Date(17,ql.October,2016)\n",
    "ql.Settings.instance().evaluationDate = today"
   ]
  },
  {
   "cell_type": "code",
   "execution_count": 2,
   "id": "9c5dde04",
   "metadata": {},
   "outputs": [],
   "source": [
    "data =  [(2, 0.02),  (4, 0.0225),  (6, 0.025),  (8, 0.0275),\n",
    "         (10, 0.03), (12, 0.0325), (14, 0.035), (16, 0.0375),\n",
    "         (18, 0.04), (20, 0.0425), (22, 0.045), (24, 0.0475),\n",
    "         (26, 0.05), (28, 0.0525), (30, 0.055)]"
   ]
  },
  {
   "cell_type": "code",
   "execution_count": null,
   "id": "96084f81",
   "metadata": {},
   "outputs": [],
   "source": [
    "calendar    = ql.TARGET()\n",
    "settlement  = calendar.advance(today 3, ql.Days)\n",
    "quotes      = []\n",
    "helpters    = []\n",
    "\n",
    "for length, coupon in data:\n",
    "    maturity = calendar.advance(settlement, \n",
    "                                length, \n",
    "                                ql.Years)\n",
    "    schedule = ql.Schedule(settlement, \n",
    "                           maturity, \n",
    "                           ql.Period(ql.Annual),\n",
    "                           calendar, \n",
    "                           ql.ModifiedFollowing, \n",
    "                           ql.ModifiedFollowing,\n",
    "                           ql.DateGeneration.Backward,\n",
    "                           False)\n",
    "    quote    = ql.SimpleQuote(100.0)\n",
    "    quotes.append(quote)\n",
    "    helpers.append()"
   ]
  }
 ],
 "metadata": {
  "kernelspec": {
   "display_name": "Python 3 (ipykernel)",
   "language": "python",
   "name": "python3"
  },
  "language_info": {
   "codemirror_mode": {
    "name": "ipython",
    "version": 3
   },
   "file_extension": ".py",
   "mimetype": "text/x-python",
   "name": "python",
   "nbconvert_exporter": "python",
   "pygments_lexer": "ipython3",
   "version": "3.10.9"
  }
 },
 "nbformat": 4,
 "nbformat_minor": 5
}
